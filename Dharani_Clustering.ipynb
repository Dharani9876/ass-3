{
 "cells": [
  {
   "cell_type": "code",
   "execution_count": 49,
   "id": "ada333be",
   "metadata": {},
   "outputs": [],
   "source": [
    "import warnings\n",
    "warnings.filterwarnings(\"ignore\")\n",
    "import pandas as pd\n",
    "import numpy as np\n",
    "import wbgapi as wb\n",
    "import errors, cluster_tools\n",
    "import matplotlib.pyplot as pypl\n",
    "pypl.style.use('_mpl-gallery')\n",
    "import seaborn as sns\n",
    "from sklearn.cluster import KMeans\n",
    "from scipy.optimize import curve_fit"
   ]
  },
  {
   "cell_type": "code",
   "execution_count": 50,
   "id": "7537ff0d",
   "metadata": {},
   "outputs": [
    {
     "data": {
      "text/html": [
       "<div>\n",
       "<style scoped>\n",
       "    .dataframe tbody tr th:only-of-type {\n",
       "        vertical-align: middle;\n",
       "    }\n",
       "\n",
       "    .dataframe tbody tr th {\n",
       "        vertical-align: top;\n",
       "    }\n",
       "\n",
       "    .dataframe thead th {\n",
       "        text-align: right;\n",
       "    }\n",
       "</style>\n",
       "<table border=\"1\" class=\"dataframe\">\n",
       "  <thead>\n",
       "    <tr style=\"text-align: right;\">\n",
       "      <th>economy</th>\n",
       "      <th>GBR</th>\n",
       "      <th>IRL</th>\n",
       "      <th>ISR</th>\n",
       "      <th>ITA</th>\n",
       "      <th>JPN</th>\n",
       "    </tr>\n",
       "  </thead>\n",
       "  <tbody>\n",
       "    <tr>\n",
       "      <th>YR1990</th>\n",
       "      <td>561774.2</td>\n",
       "      <td>30961.5</td>\n",
       "      <td>33805.9</td>\n",
       "      <td>405262.0</td>\n",
       "      <td>1090534.0</td>\n",
       "    </tr>\n",
       "    <tr>\n",
       "      <th>YR1991</th>\n",
       "      <td>570681.3</td>\n",
       "      <td>31466.7</td>\n",
       "      <td>34523.6</td>\n",
       "      <td>404074.1</td>\n",
       "      <td>1103984.0</td>\n",
       "    </tr>\n",
       "    <tr>\n",
       "      <th>YR1992</th>\n",
       "      <td>557885.3</td>\n",
       "      <td>31505.4</td>\n",
       "      <td>36857.3</td>\n",
       "      <td>402274.3</td>\n",
       "      <td>1115059.0</td>\n",
       "    </tr>\n",
       "    <tr>\n",
       "      <th>YR1993</th>\n",
       "      <td>541376.1</td>\n",
       "      <td>31653.6</td>\n",
       "      <td>40504.6</td>\n",
       "      <td>396927.9</td>\n",
       "      <td>1107610.0</td>\n",
       "    </tr>\n",
       "    <tr>\n",
       "      <th>YR1994</th>\n",
       "      <td>535182.9</td>\n",
       "      <td>32818.7</td>\n",
       "      <td>43361.2</td>\n",
       "      <td>392285.5</td>\n",
       "      <td>1160780.0</td>\n",
       "    </tr>\n",
       "  </tbody>\n",
       "</table>\n",
       "</div>"
      ],
      "text/plain": [
       "economy       GBR      IRL      ISR       ITA        JPN\n",
       "YR1990   561774.2  30961.5  33805.9  405262.0  1090534.0\n",
       "YR1991   570681.3  31466.7  34523.6  404074.1  1103984.0\n",
       "YR1992   557885.3  31505.4  36857.3  402274.3  1115059.0\n",
       "YR1993   541376.1  31653.6  40504.6  396927.9  1107610.0\n",
       "YR1994   535182.9  32818.7  43361.2  392285.5  1160780.0"
      ]
     },
     "execution_count": 50,
     "metadata": {},
     "output_type": "execute_result"
    }
   ],
   "source": [
    "ind=[]   # list to store indicators\n",
    "mng=[]   # list to store indicator names\n",
    "\n",
    "cc = ['IRL', 'ISR', 'ITA', 'GBR', 'JPN']     # country codes\n",
    "ind1=[\"EN.ATM.CO2E.KT\"]   # World bank indicator for CO2 Emission\n",
    "ind1mn=['C02 Emission']   # CO2 Emission Inducator name\n",
    "ind2=[\"EG.ELC.COAL.ZS\"]   # World bank indicator for Electricity production from coal source\n",
    "ind2mn=['Electricity production from coal source']    # Electricity production from coal source Inducator name\n",
    "\n",
    "data1 = wb.data.DataFrame(ind1, cc, mrv=60).T    # read data and transpose to get the dataframe by country economy\n",
    "data1=data1.fillna(data1.mean())    # cleaning missing values by mean\n",
    "data1.to_csv(\"C02 Emission.csv\")\n",
    "data1.head()"
   ]
  },
  {
   "cell_type": "code",
   "execution_count": 51,
   "id": "ab5b6c6f",
   "metadata": {},
   "outputs": [
    {
     "data": {
      "text/html": [
       "<div>\n",
       "<style scoped>\n",
       "    .dataframe tbody tr th:only-of-type {\n",
       "        vertical-align: middle;\n",
       "    }\n",
       "\n",
       "    .dataframe tbody tr th {\n",
       "        vertical-align: top;\n",
       "    }\n",
       "\n",
       "    .dataframe thead th {\n",
       "        text-align: right;\n",
       "    }\n",
       "</style>\n",
       "<table border=\"1\" class=\"dataframe\">\n",
       "  <thead>\n",
       "    <tr style=\"text-align: right;\">\n",
       "      <th>economy</th>\n",
       "      <th>GBR</th>\n",
       "      <th>IRL</th>\n",
       "      <th>ISR</th>\n",
       "      <th>ITA</th>\n",
       "      <th>JPN</th>\n",
       "    </tr>\n",
       "  </thead>\n",
       "  <tbody>\n",
       "    <tr>\n",
       "      <th>YR1960</th>\n",
       "      <td>81.085853</td>\n",
       "      <td>53.315650</td>\n",
       "      <td>44.813478</td>\n",
       "      <td>3.818539</td>\n",
       "      <td>32.207792</td>\n",
       "    </tr>\n",
       "    <tr>\n",
       "      <th>YR1961</th>\n",
       "      <td>80.207283</td>\n",
       "      <td>48.471260</td>\n",
       "      <td>44.813478</td>\n",
       "      <td>7.154108</td>\n",
       "      <td>28.538986</td>\n",
       "    </tr>\n",
       "    <tr>\n",
       "      <th>YR1962</th>\n",
       "      <td>80.014219</td>\n",
       "      <td>45.156538</td>\n",
       "      <td>44.813478</td>\n",
       "      <td>7.909044</td>\n",
       "      <td>33.048433</td>\n",
       "    </tr>\n",
       "    <tr>\n",
       "      <th>YR1963</th>\n",
       "      <td>79.913934</td>\n",
       "      <td>39.965636</td>\n",
       "      <td>44.813478</td>\n",
       "      <td>4.851744</td>\n",
       "      <td>33.443771</td>\n",
       "    </tr>\n",
       "    <tr>\n",
       "      <th>YR1964</th>\n",
       "      <td>78.641493</td>\n",
       "      <td>33.550103</td>\n",
       "      <td>44.813478</td>\n",
       "      <td>4.892465</td>\n",
       "      <td>29.324859</td>\n",
       "    </tr>\n",
       "  </tbody>\n",
       "</table>\n",
       "</div>"
      ],
      "text/plain": [
       "economy        GBR        IRL        ISR       ITA        JPN\n",
       "YR1960   81.085853  53.315650  44.813478  3.818539  32.207792\n",
       "YR1961   80.207283  48.471260  44.813478  7.154108  28.538986\n",
       "YR1962   80.014219  45.156538  44.813478  7.909044  33.048433\n",
       "YR1963   79.913934  39.965636  44.813478  4.851744  33.443771\n",
       "YR1964   78.641493  33.550103  44.813478  4.892465  29.324859"
      ]
     },
     "execution_count": 51,
     "metadata": {},
     "output_type": "execute_result"
    }
   ],
   "source": [
    "data2  = wb.data.DataFrame(ind2, cc, mrv=60).T   # read data and transpose to get the dataframe by country economy\n",
    "data2=data2.fillna(data2.mean())    # cleaning missing values by mean\n",
    "data2.to_csv(\"Electricity production.csv\")\n",
    "data2.head()"
   ]
  },
  {
   "cell_type": "code",
   "execution_count": 52,
   "id": "55678eaa",
   "metadata": {},
   "outputs": [
    {
     "name": "stdout",
     "output_type": "stream",
     "text": [
      "['C02 Emission', 'Electricity production from coal source']\n"
     ]
    }
   ],
   "source": [
    "indic=[]\n",
    "indic.extend(ind1mn)\n",
    "indic.extend(ind2mn)\n",
    "print(indic)   # create list for indicator names"
   ]
  },
  {
   "cell_type": "code",
   "execution_count": 53,
   "id": "675394d0",
   "metadata": {},
   "outputs": [],
   "source": [
    "def ratechart(wbdt, inm, ccd):    # fucntion to visualize growth rate by year\n",
    "    pypl.figure(figsize=(6,3))\n",
    "    pypl.title(\"{} by Year\".format(inm))   # chart title\n",
    "    cls=[\"m\",\"y\",\"b\",\"g\",\"c\"]   # seting colours\n",
    "    for x in range(len(ccd)):\n",
    "        pypl.plot(wbdt[ccd[x]],cls[x],label=ccd[x])    # line chart for countries (CO2 and Electricity production)\n",
    "    pypl.xlabel(\"Year\")\n",
    "    pypl.xticks(rotation=90)\n",
    "    pypl.ylabel(\"{}\".format(inm))\n",
    "    pypl.legend()\n",
    "    pypl.show()"
   ]
  },
  {
   "cell_type": "code",
   "execution_count": 54,
   "id": "5f5ed027",
   "metadata": {},
   "outputs": [
    {
     "data": {
      "image/png": "[encoded data removed]",
      "text/plain": [
       "<Figure size 432x216 with 1 Axes>"
      ]
     },
     "metadata": {
      "needs_background": "light"
     },
     "output_type": "display_data"
    },
    {
     "data": {
      "image/png": "[encoded data removed]",
      "text/plain": [
       "<Figure size 432x216 with 1 Axes>"
      ]
     },
     "metadata": {
      "needs_background": "light"
     },
     "output_type": "display_data"
    }
   ],
   "source": [
    "data_all=[data1,data2]\n",
    "for d in range(len(data_all)):\n",
    "    ratechart(data_all[d], indic[d], cc)"
   ]
  },
  {
   "cell_type": "code",
   "execution_count": 55,
   "id": "021a73ca",
   "metadata": {},
   "outputs": [
    {
     "data": {
      "text/plain": [
       "<Figure size 432x432 with 0 Axes>"
      ]
     },
     "metadata": {},
     "output_type": "display_data"
    },
    {
     "data": {
      "image/png": "[encoded data removed]",
      "text/plain": [
       "<Figure size 288x288 with 2 Axes>"
      ]
     },
     "metadata": {
      "needs_background": "light"
     },
     "output_type": "display_data"
    },
    {
     "data": {
      "text/plain": [
       "<Figure size 432x432 with 0 Axes>"
      ]
     },
     "metadata": {},
     "output_type": "display_data"
    },
    {
     "data": {
      "image/png": "[encoded data removed]",
      "text/plain": [
       "<Figure size 288x288 with 2 Axes>"
      ]
     },
     "metadata": {
      "needs_background": "light"
     },
     "output_type": "display_data"
    }
   ],
   "source": [
    "for da in range(len(data_all)):\n",
    "    cluster_tools.map_corr(data_all[da])    # call fucntion for corelation heatmap"
   ]
  },
  {
   "cell_type": "code",
   "execution_count": 56,
   "id": "400907fb",
   "metadata": {},
   "outputs": [
    {
     "name": "stdout",
     "output_type": "stream",
     "text": [
      "economy       GBR       IRL       ISR       ITA       JPN\n",
      "YR1990   0.959834  0.000000  0.000000  0.562115  0.049458\n",
      "YR1991   1.000000  0.030990  0.016984  0.554529  0.123684\n",
      "YR1992   0.942298  0.033364  0.072210  0.543036  0.184804\n",
      "YR1993   0.867851  0.042455  0.158522  0.508894  0.143695\n",
      "YR1994   0.839924  0.113926  0.226122  0.479248  0.437123 \n",
      "\n",
      "economy       GBR       IRL       ISR       ITA       JPN\n",
      "YR1960   1.000000  0.881952  0.580667  0.023419  0.951395\n",
      "YR1961   0.984925  0.776972  0.580667  0.249914  0.807118\n",
      "YR1962   0.981612  0.705141  0.580667  0.301176  0.984453\n",
      "YR1963   0.979891  0.592652  0.580667  0.093577  1.000000\n",
      "YR1964   0.958058  0.453625  0.580667  0.096342  0.838023\n"
     ]
    }
   ],
   "source": [
    "datascld=[]   # store all normalized data\n",
    "vlmin=[]\n",
    "vlmx=[]\n",
    "for d in range(len(data_all)):\n",
    "    scld=cluster_tools.scaler(data_all[d])   # call fucntion to scale or normalize data\n",
    "    datascld.append(scld[0])    # take normalize data\n",
    "    vlmin.append(scld[1])    # take min value\n",
    "    vlmx.append(scld[2])    # take max value\n",
    "print(datascld[0].head(),\"\\n\")\n",
    "print(datascld[1].head())"
   ]
  },
  {
   "cell_type": "code",
   "execution_count": 57,
   "id": "ba979807",
   "metadata": {},
   "outputs": [
    {
     "data": {
      "text/html": [
       "<div>\n",
       "<style scoped>\n",
       "    .dataframe tbody tr th:only-of-type {\n",
       "        vertical-align: middle;\n",
       "    }\n",
       "\n",
       "    .dataframe tbody tr th {\n",
       "        vertical-align: top;\n",
       "    }\n",
       "\n",
       "    .dataframe thead th {\n",
       "        text-align: right;\n",
       "    }\n",
       "</style>\n",
       "<table border=\"1\" class=\"dataframe\">\n",
       "  <thead>\n",
       "    <tr style=\"text-align: right;\">\n",
       "      <th>economy</th>\n",
       "      <th>GBR</th>\n",
       "      <th>IRL</th>\n",
       "      <th>ISR</th>\n",
       "      <th>ITA</th>\n",
       "      <th>JPN</th>\n",
       "    </tr>\n",
       "  </thead>\n",
       "  <tbody>\n",
       "    <tr>\n",
       "      <th>YR1990</th>\n",
       "      <td>0.959834</td>\n",
       "      <td>0.000000</td>\n",
       "      <td>0.000000</td>\n",
       "      <td>0.562115</td>\n",
       "      <td>0.049458</td>\n",
       "    </tr>\n",
       "    <tr>\n",
       "      <th>YR1991</th>\n",
       "      <td>1.000000</td>\n",
       "      <td>0.030990</td>\n",
       "      <td>0.016984</td>\n",
       "      <td>0.554529</td>\n",
       "      <td>0.123684</td>\n",
       "    </tr>\n",
       "    <tr>\n",
       "      <th>YR1992</th>\n",
       "      <td>0.942298</td>\n",
       "      <td>0.033364</td>\n",
       "      <td>0.072210</td>\n",
       "      <td>0.543036</td>\n",
       "      <td>0.184804</td>\n",
       "    </tr>\n",
       "    <tr>\n",
       "      <th>YR1993</th>\n",
       "      <td>0.867851</td>\n",
       "      <td>0.042455</td>\n",
       "      <td>0.158522</td>\n",
       "      <td>0.508894</td>\n",
       "      <td>0.143695</td>\n",
       "    </tr>\n",
       "    <tr>\n",
       "      <th>YR1994</th>\n",
       "      <td>0.839924</td>\n",
       "      <td>0.113926</td>\n",
       "      <td>0.226122</td>\n",
       "      <td>0.479248</td>\n",
       "      <td>0.437123</td>\n",
       "    </tr>\n",
       "  </tbody>\n",
       "</table>\n",
       "</div>"
      ],
      "text/plain": [
       "economy       GBR       IRL       ISR       ITA       JPN\n",
       "YR1990   0.959834  0.000000  0.000000  0.562115  0.049458\n",
       "YR1991   1.000000  0.030990  0.016984  0.554529  0.123684\n",
       "YR1992   0.942298  0.033364  0.072210  0.543036  0.184804\n",
       "YR1993   0.867851  0.042455  0.158522  0.508894  0.143695\n",
       "YR1994   0.839924  0.113926  0.226122  0.479248  0.437123"
      ]
     },
     "execution_count": 57,
     "metadata": {},
     "output_type": "execute_result"
    }
   ],
   "source": [
    "datascld[0].head()"
   ]
  },
  {
   "cell_type": "code",
   "execution_count": 58,
   "id": "0c2f5025",
   "metadata": {},
   "outputs": [
    {
     "data": {
      "text/html": [
       "<div>\n",
       "<style scoped>\n",
       "    .dataframe tbody tr th:only-of-type {\n",
       "        vertical-align: middle;\n",
       "    }\n",
       "\n",
       "    .dataframe tbody tr th {\n",
       "        vertical-align: top;\n",
       "    }\n",
       "\n",
       "    .dataframe thead th {\n",
       "        text-align: right;\n",
       "    }\n",
       "</style>\n",
       "<table border=\"1\" class=\"dataframe\">\n",
       "  <thead>\n",
       "    <tr style=\"text-align: right;\">\n",
       "      <th>economy</th>\n",
       "      <th>GBR</th>\n",
       "      <th>IRL</th>\n",
       "      <th>ISR</th>\n",
       "      <th>ITA</th>\n",
       "      <th>JPN</th>\n",
       "    </tr>\n",
       "  </thead>\n",
       "  <tbody>\n",
       "    <tr>\n",
       "      <th>YR1960</th>\n",
       "      <td>1.000000</td>\n",
       "      <td>0.881952</td>\n",
       "      <td>0.580667</td>\n",
       "      <td>0.023419</td>\n",
       "      <td>0.951395</td>\n",
       "    </tr>\n",
       "    <tr>\n",
       "      <th>YR1961</th>\n",
       "      <td>0.984925</td>\n",
       "      <td>0.776972</td>\n",
       "      <td>0.580667</td>\n",
       "      <td>0.249914</td>\n",
       "      <td>0.807118</td>\n",
       "    </tr>\n",
       "    <tr>\n",
       "      <th>YR1962</th>\n",
       "      <td>0.981612</td>\n",
       "      <td>0.705141</td>\n",
       "      <td>0.580667</td>\n",
       "      <td>0.301176</td>\n",
       "      <td>0.984453</td>\n",
       "    </tr>\n",
       "    <tr>\n",
       "      <th>YR1963</th>\n",
       "      <td>0.979891</td>\n",
       "      <td>0.592652</td>\n",
       "      <td>0.580667</td>\n",
       "      <td>0.093577</td>\n",
       "      <td>1.000000</td>\n",
       "    </tr>\n",
       "    <tr>\n",
       "      <th>YR1964</th>\n",
       "      <td>0.958058</td>\n",
       "      <td>0.453625</td>\n",
       "      <td>0.580667</td>\n",
       "      <td>0.096342</td>\n",
       "      <td>0.838023</td>\n",
       "    </tr>\n",
       "  </tbody>\n",
       "</table>\n",
       "</div>"
      ],
      "text/plain": [
       "economy       GBR       IRL       ISR       ITA       JPN\n",
       "YR1960   1.000000  0.881952  0.580667  0.023419  0.951395\n",
       "YR1961   0.984925  0.776972  0.580667  0.249914  0.807118\n",
       "YR1962   0.981612  0.705141  0.580667  0.301176  0.984453\n",
       "YR1963   0.979891  0.592652  0.580667  0.093577  1.000000\n",
       "YR1964   0.958058  0.453625  0.580667  0.096342  0.838023"
      ]
     },
     "execution_count": 58,
     "metadata": {},
     "output_type": "execute_result"
    }
   ],
   "source": [
    "datascld[1].head()"
   ]
  },
  {
   "cell_type": "code",
   "execution_count": 59,
   "id": "ad3c6dba",
   "metadata": {},
   "outputs": [
    {
     "name": "stdout",
     "output_type": "stream",
     "text": [
      "[[ 561774.2   30961.5   33805.9  405262.  1090534. ]\n",
      " [ 570681.3   31466.7   34523.6  404074.1 1103984. ]\n",
      " [ 557885.3   31505.4   36857.3  402274.3 1115059. ]\n",
      " [ 541376.1   31653.6   40504.6  396927.9 1107610. ]\n",
      " [ 535182.9   32818.7   43361.2  392285.5 1160780. ]\n",
      " [ 526807.8   33448.2   46775.3  416415.  1171012. ]\n",
      " [ 545477.8   34821.2   48734.1  412153.5 1184674. ]\n",
      " [ 524190.9   35972.5   50967.4  415517.3 1172630. ]\n",
      " [ 526000.3   38419.    51504.7  426372.2 1130307. ]\n",
      " [ 522752.3   39973.3   52983.6  433010.6 1165316. ]\n",
      " [ 530888.    42533.5   56997.3  436296.6 1182607. ]\n",
      " [ 545262.    44815.3   57952.5  436571.4 1170384. ]\n",
      " [ 530785.7   43929.8   61080.6  443473.1 1206595. ]\n",
      " [ 543036.9   44086.8   62925.5  462197.8 1214947. ]\n",
      " [ 543075.7   44687.6   63159.9  472404.8 1209849. ]\n",
      " [ 540916.8   46650.5   61012.4  473831.8 1212821. ]\n",
      " [ 542060.7   47263.3   64331.   466654.5 1189524. ]\n",
      " [ 530502.3   46355.8   66597.9  459371.1 1225069. ]\n",
      " [ 515335.5   45780.1   66708.   444984.5 1158222. ]\n",
      " [ 466492.3   40564.6   65727.7  397057.1 1100984. ]\n",
      " [ 482441.2   40188.5   70520.3  405272.3 1156480. ]\n",
      " [ 445591.6   36681.3   69822.8  396687.4 1213515. ]\n",
      " [ 467780.3   37127.9   76063.2  376747.2 1253614. ]\n",
      " [ 453761.3   35709.3   67002.5  346458.3 1262775. ]\n",
      " [ 415599.3   35525.3   64717.8  327498.  1217119. ]\n",
      " [ 401078.5   37063.    66142.   337862.1 1179445. ]\n",
      " [ 380811.8   38824.8   64980.2  333344.8 1167792. ]\n",
      " [ 367002.4   37778.5   65613.7  329193.3 1155235. ]\n",
      " [ 360734.7   37661.7   61076.7  324884.2 1116153. ]\n",
      " [ 348921.9   35750.9   62650.3  317238.6 1081572. ]] \n",
      "\n",
      "[[81.08585349 53.31564987 44.81347804  3.81853902 32.20779221]\n",
      " [80.20728265 48.47125968 44.81347804  7.1541076  28.53898562]\n",
      " [80.0142186  45.15653775 44.81347804  7.90904444 33.04843305]\n",
      " [79.91393407 39.96563574 44.81347804  4.85174443 33.44377071]\n",
      " [78.64149253 33.55010346 44.81347804  4.89246537 29.32485923]\n",
      " [74.49733017 29.04361962 44.81347804  5.22798266 27.84585702]\n",
      " [72.18463613 28.16479401 44.81347804  5.68059782 28.85734233]\n",
      " [70.78988957 27.90750916 44.81347804  8.56890459 32.82051282]\n",
      " [71.75058509 37.1375694  44.81347804  6.82291616 29.38040081]\n",
      " [71.92361529 39.24026591 44.81347804  6.83410575 22.03147353]\n",
      " [68.80539002 32.36055949 44.81347804  4.90488944 16.93912063]\n",
      " [63.93711193 29.7430203   0.          4.73612008 11.85688169]\n",
      " [55.27368353 25.96893598  0.          3.47364333  9.77214   ]\n",
      " [62.06069266 24.91834513  0.          3.60001668  8.01483497]\n",
      " [54.63652983 24.08596514  0.          4.49190385  8.70089458]\n",
      " [62.58281325 25.28919027  0.          4.10624374  8.94375098]\n",
      " [65.33989153 27.34713529  0.          5.02463176  8.63327232]\n",
      " [64.78081851 24.9750582   0.          5.43047321  8.93078767]\n",
      " [65.69038825 21.12792868  0.          5.93637902  8.49773743]\n",
      " [67.93316479 17.11466165  0.          8.38105241  8.60098404]\n",
      " [73.18452077 16.40166572  0.          9.94691346  9.59511363]\n",
      " [74.77204307 15.41456928  0.         11.34705008 10.82036824]\n",
      " [71.89630295 16.88509022 18.1438311  13.25607999 11.62594995]\n",
      " [70.65613807 17.89688427 32.866597   13.4129888  12.71077748]\n",
      " [45.66684261 20.22961908 49.97613365 15.41394821 14.08855709]\n",
      " [60.50848435 21.49731709 54.41290824 16.47470053 14.89397113]\n",
      " [67.65579329 26.35085724 55.50081078 16.41335133 14.6129363 ]\n",
      " [70.10548859 55.0083142  51.34921084 16.65977447 15.08223576]\n",
      " [66.88523414 58.35595192 46.70835056 16.89022871 14.84411236]\n",
      " [64.53729911 58.76311512 47.63604361 15.47401202 14.81154362]\n",
      " [64.96766377 41.59111673 49.67939516 16.77809211 13.48977775]\n",
      " [65.80260898 39.20294709 52.91438133 14.72792276 13.82580908]\n",
      " [60.63579942 42.19264892 57.79510022 11.22972318 14.37217105]\n",
      " [53.23737429 40.98086569 61.7105516   9.19019773 15.30658579]\n",
      " [49.63971891 39.71951509 60.22375457 10.03060243 15.8526524 ]\n",
      " [46.68004054 39.86593956 62.08381265 11.61422962 16.75346588]\n",
      " [42.15961044 36.95560254 68.92809935 10.5777826  17.37245932]\n",
      " [34.93126754 34.47102443 70.76638177 10.04729763 18.15523714]\n",
      " [34.64643471 32.28278571 69.73521275 10.97041257 18.24118199]\n",
      " [29.66214921 26.79531358 66.89787071 10.88696457 19.91332871]\n",
      " [32.66777963 28.79651924 68.49112773 11.30765612 21.48421273]\n",
      " [34.79579881 28.67002273 74.92207231 13.52549155 23.38478021]\n",
      " [32.67879198 27.45642636 77.15384615 14.58138161 24.61992605]\n",
      " [35.3614994  24.95072604 76.72030782 15.41054499 26.3775463 ]\n",
      " [34.05967113 24.70354947 77.1759132  17.20113464 26.45867982]\n",
      " [34.47825889 24.93170998 74.40228797 16.64836275 27.22636172]\n",
      " [38.24822713 21.69936569 70.63174967 16.39241967 26.58656402]\n",
      " [34.98756906 19.74719    69.30584474 16.13609671 27.34596561]\n",
      " [32.68196346 17.20275512 62.01536788 15.49818676 27.23000261]\n",
      " [27.99654757 14.32505902 62.45091623 15.05748522 27.17272777]\n",
      " [28.74592447 12.61712095 58.44412964 14.87216047 27.15514217]\n",
      " [30.06295807 14.52289795 58.89173746 16.67697773 27.09995318]\n",
      " [40.05150157 18.51074021 61.45580369 18.20059334 29.72207921]\n",
      " [37.04979    16.74682307 52.32216823 16.8431692  32.92587052]\n",
      " [30.31169753 15.33245505 49.49106277 16.72827166 32.74193411]\n",
      " [22.80649074 17.34581302 45.40373058 16.12007302 33.15273563]]\n"
     ]
    }
   ],
   "source": [
    "sclbk=[]\n",
    "for ds in range(len(datascld)):\n",
    "    sclbk.append(cluster_tools.backscale(np.array(datascld[ds]),vlmin[ds],vlmx[ds]))   # call fucntion and store backscaled data\n",
    "print(sclbk[0],\"\\n\")\n",
    "print(sclbk[1])"
   ]
  },
  {
   "cell_type": "code",
   "execution_count": 60,
   "id": "6316b57e",
   "metadata": {},
   "outputs": [
    {
     "name": "stdout",
     "output_type": "stream",
     "text": [
      "total entries 84\n",
      "entries in common 12\n"
     ]
    },
    {
     "data": {
      "text/plain": [
       "[0.01698404772666491,\n",
       " 0.07221000868488998,\n",
       " 0.15852172287391758,\n",
       " 0.2261218771667853,\n",
       " 0.30691501823353606,\n",
       " 0.3532691392966422,\n",
       " 0.406119179408055,\n",
       " 0.41883414226654325,\n",
       " 0.4538316456564901,\n",
       " 0.5488140510633667,\n",
       " 0.571418429478457,\n",
       " 0.64544350916883,\n",
       " 0.6891022379565188,\n",
       " 0.6946492085391164,\n",
       " 0.643829586840617,\n",
       " 0.7223627633568638,\n",
       " 0.7760079323572494,\n",
       " 0.7786133993416523,\n",
       " 0.7554150407148587,\n",
       " 0.868829764324744,\n",
       " 0.8523237405134735,\n",
       " 0.7855826093952998,\n",
       " 0.7315162114001605,\n",
       " 0.7652192638904994,\n",
       " 0.7377257893902355,\n",
       " 0.7527172819844145,\n",
       " 0.6453512174227884,\n",
       " 0.6825897537230254,\n",
       " 0.5806666379180604,\n",
       " 0.5806666379180604,\n",
       " 0.5806666379180604,\n",
       " 0.5806666379180604,\n",
       " 0.5806666379180604,\n",
       " 0.5806666379180604,\n",
       " 0.5806666379180604,\n",
       " 0.5806666379180604,\n",
       " 0.5806666379180604,\n",
       " 0.5806666379180604,\n",
       " 0.5806666379180604,\n",
       " 0.23509707039444372,\n",
       " 0.42586599423840144,\n",
       " 0.647561286700201,\n",
       " 0.7050503970627302,\n",
       " 0.7191467969552864,\n",
       " 0.6653528116790177,\n",
       " 0.6052192792248283,\n",
       " 0.617239779089138,\n",
       " 0.6437163241745762,\n",
       " 0.6856333685175795,\n",
       " 0.7488748474648765,\n",
       " 0.7996089589249591,\n",
       " 0.7803439192296712,\n",
       " 0.8044454556214788,\n",
       " 0.8931296890030332,\n",
       " 0.9169490691550001,\n",
       " 0.9035877887796308,\n",
       " 0.8668231828073656,\n",
       " 0.8874676682326929,\n",
       " 0.9707960580575388,\n",
       " 0.9997140682711273,\n",
       " 0.9940965340003138,\n",
       " 0.9640609989622492,\n",
       " 0.9152045858419547,\n",
       " 0.8980242910653204,\n",
       " 0.8035585886003559,\n",
       " 0.8092021674127102,\n",
       " 0.7572845882102572,\n",
       " 0.7630844265155929,\n",
       " 0.7963080856031457,\n",
       " 0.6779598201030275,\n",
       " 0.6412760240414535,\n",
       " 0.5883147823727566]"
      ]
     },
     "execution_count": 60,
     "metadata": {},
     "output_type": "execute_result"
    }
   ],
   "source": [
    "cluster_tools.get_diff_entries(datascld[0],datascld[1],'ISR')"
   ]
  },
  {
   "cell_type": "markdown",
   "id": "6955edcb",
   "metadata": {},
   "source": [
    "## Clustering"
   ]
  },
  {
   "cell_type": "code",
   "execution_count": 61,
   "id": "61774348",
   "metadata": {},
   "outputs": [],
   "source": [
    "def optclus(dt, cl):   # function to choose optimum clucter value\n",
    "    val_el = []\n",
    "    for i in range(1, cl):   # apply k-means with clsuter number 1 to the given value\n",
    "        kmeans = KMeans(n_clusters=i, init='k-means++', max_iter=600,  random_state=32)   # create K-means model\n",
    "        kmeans.fit(dt)    # fir k-means model\n",
    "        val_el.append(kmeans.inertia_)   # store all inertia value\n",
    "    valarr=np.array(val_el)\n",
    "    valarr=valarr[valarr>1]    # get the value after hcih curve is smoothing\n",
    "    op=valarr[-1]    # optimum clsuter value\n",
    "    opid=val_el.index(op)\n",
    "    pypl.figure(figsize=(4,2))\n",
    "    pypl.title('Elbow Curve (Optimum Cluster: {})'.format(opid))\n",
    "    pypl.plot(range(1, cl), val_el,\"c--\")\n",
    "    pypl.plot(range(1, cl), val_el,\"Xm\")\n",
    "    pypl.xlabel('Number of clusters')\n",
    "    pypl.ylabel('Inertia')\n",
    "    pypl.show()\n",
    "    \n",
    "    return opid"
   ]
  },
  {
   "cell_type": "code",
   "execution_count": 62,
   "id": "48c93572",
   "metadata": {},
   "outputs": [
    {
     "data": {
      "image/png": "[encoded data removed]",
      "text/plain": [
       "<Figure size 288x144 with 1 Axes>"
      ]
     },
     "metadata": {
      "needs_background": "light"
     },
     "output_type": "display_data"
    }
   ],
   "source": [
    "optv=optclus(datascld[0],15)"
   ]
  },
  {
   "cell_type": "code",
   "execution_count": 63,
   "id": "ef2029fb",
   "metadata": {},
   "outputs": [
    {
     "data": {
      "image/png": "[encoded data removed]",
      "text/plain": [
       "<Figure size 360x216 with 1 Axes>"
      ]
     },
     "metadata": {
      "needs_background": "light"
     },
     "output_type": "display_data"
    }
   ],
   "source": [
    "optkn = KMeans(n_clusters=optv, max_iter=500, n_init=20, random_state=32)   # apply K-Means with optimum cluster\n",
    "clus_model1 = optkn.fit(datascld[0])   # fit model\n",
    "nlst=[]\n",
    "for i in clus_model1.labels_:\n",
    "    if i==0:\n",
    "        nlst.append(data1.columns[0])\n",
    "    elif i==1:\n",
    "        nlst.append(data1.columns[1])\n",
    "    elif i==2:\n",
    "        nlst.append(data1.columns[2])\n",
    "    elif i==3:\n",
    "        nlst.append(data1.columns[3])\n",
    "    elif i==4:\n",
    "        nlst.append(data1.columns[4])\n",
    "df=pd.DataFrame(datascld[0],columns=data1.columns)\n",
    "pypl.figure(figsize=(5,3))\n",
    "pypl.title('Cluster Visualization')    # clsuter visualization\n",
    "sns.scatterplot(data=df, x=data1.columns[0], y=data1.columns[1], hue=nlst,palette=\"plasma\")\n",
    "pypl.scatter(clus_model1.cluster_centers_[:,0], clus_model1.cluster_centers_[:,1], \n",
    "            marker=\"D\", c=\"g\", s=80, label=\"centroids\")\n",
    "pypl.legend(loc='upper left')\n",
    "pypl.show()"
   ]
  },
  {
   "cell_type": "markdown",
   "id": "c79f906a",
   "metadata": {},
   "source": [
    "## Curve Fitting"
   ]
  },
  {
   "cell_type": "code",
   "execution_count": 64,
   "id": "048fcff9",
   "metadata": {},
   "outputs": [],
   "source": [
    "def func(x, a, b, c):     # create function for curve fitting\n",
    "    return a * np.exp(-b * x) + c"
   ]
  },
  {
   "cell_type": "code",
   "execution_count": 65,
   "id": "736df5b0",
   "metadata": {},
   "outputs": [
    {
     "data": {
      "image/png": "[encoded data removed]",
      "text/plain": [
       "<Figure size 360x216 with 1 Axes>"
      ]
     },
     "metadata": {
      "needs_background": "light"
     },
     "output_type": "display_data"
    }
   ],
   "source": [
    "y = func(datascld[1].values[:,1], 1.8, 0.3, 0.7)    # call fucntion to curve fit\n",
    "rng = np.random.default_rng()    # set range\n",
    "try:\n",
    "    y_noise = 0.15 * rng.normal(size=datascld[1].values[:,1].size)  # detect data noise\n",
    "    ydata = y + y_noise    # predit data\n",
    "    f1, f2 = curve_fit(func, datascld[1].values[:,1], ydata)   # apply curve fitting\n",
    "except:\n",
    "    y_noise = round(np.random.random(),2) * rng.normal(size=datascld[1].values[:,1].size)\n",
    "    ydata = y + y_noise\n",
    "    f1, f2 = curve_fit(func, datascld[1].values[:,1], ydata)\n",
    "pypl.figure(figsize=(5,3))\n",
    "pypl.title('Best-Fit Result of Curve Fiting')\n",
    "pypl.plot(datascld[1].values[:,0], ydata, 'cD', label='data')\n",
    "pypl.plot(datascld[1].values[:,0], func(datascld[1].values[:,0], *f1), 'g--',label='Best fit: a=%5.2f, b=%5.2f, c=%5.2f' % tuple(f1))\n",
    "pypl.xlabel('x')\n",
    "pypl.ylabel('y')\n",
    "pypl.legend()\n",
    "pypl.show()"
   ]
  },
  {
   "cell_type": "code",
   "execution_count": null,
   "id": "8e4f30b4",
   "metadata": {},
   "outputs": [],
   "source": []
  }
 ],
 "metadata": {
  "kernelspec": {
   "display_name": "Python 3 (ipykernel)",
   "language": "python",
   "name": "python3"
  },
  "language_info": {
   "codemirror_mode": {
    "name": "ipython",
    "version": 3
   },
   "file_extension": ".py",
   "mimetype": "text/x-python",
   "name": "python",
   "nbconvert_exporter": "python",
   "pygments_lexer": "ipython3",
   "version": "3.9.12"
  }
 },
 "nbformat": 4,
 "nbformat_minor": 5
}
